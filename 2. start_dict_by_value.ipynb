{
 "cells": [
  {
   "cell_type": "markdown",
   "metadata": {},
   "source": [
    "### Trick"
   ]
  },
  {
   "cell_type": "code",
   "execution_count": 11,
   "metadata": {},
   "outputs": [
    {
     "data": {
      "text/plain": [
       "[('d', 1), ('c', 2), ('b', 3), ('a', 4)]"
      ]
     },
     "execution_count": 11,
     "metadata": {},
     "output_type": "execute_result"
    }
   ],
   "source": [
    "# How to sort a Python dict by value\n",
    "# (== get a representation sorted by value)\n",
    "\n",
    "xs = {'a': 4, 'b': 3, 'c': 2, 'd': 1}\n",
    "\n",
    "sorted(xs.items(), key=lambda x: x[1])\n",
    "# [('d', 1), ('c', 2), ('b', 3), ('a', 4)]\n",
    "\n",
    "# Or:\n",
    "\n",
    "import operator\n",
    "sorted(xs.items(), key=operator.itemgetter(1))\n",
    "# [('d', 1), ('c', 2), ('b', 3), ('a', 4)]"
   ]
  },
  {
   "cell_type": "markdown",
   "metadata": {},
   "source": [
    "### Notes"
   ]
  },
  {
   "cell_type": "markdown",
   "metadata": {},
   "source": [
    "**1. dict.items()**"
   ]
  },
  {
   "cell_type": "code",
   "execution_count": 2,
   "metadata": {},
   "outputs": [
    {
     "data": {
      "text/plain": [
       "dict_items([('a', 4), ('b', 3), ('c', 2), ('d', 1)])"
      ]
     },
     "execution_count": 2,
     "metadata": {},
     "output_type": "execute_result"
    }
   ],
   "source": [
    "xs = {'a': 4, 'b': 3, 'c': 2, 'd': 1}\n",
    "xs.items()  # get dict_items\n",
    "# dict_items([('a', 4), ('b', 3), ('c', 2), ('d', 1)])"
   ]
  },
  {
   "cell_type": "markdown",
   "metadata": {},
   "source": [
    "**2. zip()**\n",
    "> The `zip()` function take iterables (can be zero or more), \n",
    "makes iterator that aggregates elements based on the iterables passed, \n",
    "and returns an iterator of tuples."
   ]
  },
  {
   "cell_type": "code",
   "execution_count": 5,
   "metadata": {},
   "outputs": [
    {
     "name": "stdout",
     "output_type": "stream",
     "text": [
      "[(1, 'one'), (2, 'two'), (3, 'three')]\n",
      "(1, 2, 3) ('one', 'two', 'three')\n"
     ]
    }
   ],
   "source": [
    "numberList = [1, 2, 3]\n",
    "strList = ['one', 'two', 'three']\n",
    "result = zip(numberList, strList)\n",
    "resultList = list(result)\n",
    "print(resultList)\n",
    "# [(1, 'one'), (2, 'two'), (3, 'three')]\n",
    "\n",
    "n, s = zip(*resultList)\n",
    "print(n, s)\n",
    "# (1, 2, 3) ('one', 'two', 'three')"
   ]
  },
  {
   "cell_type": "markdown",
   "metadata": {},
   "source": [
    "**3. lambda**  \n",
    "> Lambdas are one line functions. \n",
    "They are also known as anonymous functions in some other languages. \n",
    "You might want to use lambdas when you don’t want to use a \n",
    "function twice in a program. They are just like normal functions \n",
    "and even behave like them."
   ]
  },
  {
   "cell_type": "code",
   "execution_count": 7,
   "metadata": {},
   "outputs": [
    {
     "name": "stdout",
     "output_type": "stream",
     "text": [
      "3\n",
      "[(13, -3), (4, 1), (1, 2), (9, 10)]\n"
     ]
    }
   ],
   "source": [
    "# lambda argument: manipulate(argument)\n",
    "# example\n",
    "add = lambda x, y: x+y\n",
    "print(add(1, 2))\n",
    "# 3\n",
    "\n",
    "# list sorting \n",
    "a = [(1, 2), (4, 1), (9, 10), (13, -3)]\n",
    "a.sort(key=lambda x: x[1])\n",
    "print(a)\n",
    "# [(13, -3), (4, 1), (1, 2), (9, 10)]"
   ]
  },
  {
   "cell_type": "markdown",
   "metadata": {},
   "source": [
    "**4. sorted()**"
   ]
  },
  {
   "cell_type": "code",
   "execution_count": 8,
   "metadata": {},
   "outputs": [
    {
     "name": "stdout",
     "output_type": "stream",
     "text": [
      "[1, 2, 3, 4, 5]\n",
      "['a', 'b', 'f', 'r', 'w']\n",
      "['w', 'r', 'f', 'b', 'a']\n",
      "[('a', 4), ('b', 3), ('c', 2), ('d', 1)]\n",
      "[('a', 4), ('b', 3), ('c', 2), ('d', 1)]\n",
      "[('d', 1), ('c', 2), ('b', 3), ('a', 4)]\n"
     ]
    }
   ],
   "source": [
    "l = [1, 4, 5, 3, 2]\n",
    "s_l = sorted(l)\n",
    "print(s_l)\n",
    "# [1, 2, 3, 4, 5]\n",
    "\n",
    "m = ['f', 'a', 'r', 'w', 'b']\n",
    "s_m = sorted(m)\n",
    "print(s_m)\n",
    "# ['a', 'b', 'f', 'r', 'w']\n",
    "\n",
    "sr_m = sorted(m, reverse=True) # reverse order\n",
    "print(sr_m)\n",
    "# ['w', 'r', 'f', 'b', 'a']\n",
    "\n",
    "xs = {'a': 4, 'b': 3, 'c': 2, 'd': 1}\n",
    "s_xs = sorted(xs.items())\n",
    "print(s_xs)\n",
    "# [('a', 4), ('b', 3), ('c', 2), ('d', 1)]\n",
    "\n",
    "s_xs_0 = sorted(xs.items(), key=lambda x:x[0])\n",
    "print(s_xs_0)\n",
    "# [('a', 4), ('b', 3), ('c', 2), ('d', 1)]\n",
    "\n",
    "s_xs_1 = sorted(xs.items(), key=lambda x:x[1])\n",
    "print(s_xs_1)\n",
    "# [('d', 1), ('c', 2), ('b', 3), ('a', 4)]"
   ]
  },
  {
   "cell_type": "markdown",
   "metadata": {},
   "source": [
    "**the difference between `.sort()` and `sorted()`**  \n",
    "`.sort()` change the original variable, \n",
    "but `sorted()` generate a new variable  "
   ]
  },
  {
   "cell_type": "code",
   "execution_count": 10,
   "metadata": {},
   "outputs": [
    {
     "name": "stdout",
     "output_type": "stream",
     "text": [
      "[1, 2, 3, 4, 5]\n",
      "[1, 4, 5, 3, 2]\n",
      "[1, 2, 3, 4, 5]\n"
     ]
    }
   ],
   "source": [
    "a = [1, 4, 5, 3, 2]\n",
    "a.sort()\n",
    "print(a)\n",
    "# [1, 2, 3, 4, 5]\n",
    "\n",
    "b = [1, 4, 5, 3, 2]\n",
    "c = sorted(b)\n",
    "print(b) # no change\n",
    "# [1, 4, 5, 3, 2]\n",
    "print(c) # new variable\n",
    "# [1, 2, 3, 4, 5]"
   ]
  },
  {
   "cell_type": "markdown",
   "metadata": {},
   "source": [
    "**5. operator.itemgetter()**\n",
    "> Return a callable object that fetches item from its operand using the operand’s `__getitem__()` method. If multiple items are specified, returns a tuple of lookup values."
   ]
  },
  {
   "cell_type": "code",
   "execution_count": 13,
   "metadata": {},
   "outputs": [
    {
     "name": "stdout",
     "output_type": "stream",
     "text": [
      "2\n"
     ]
    }
   ],
   "source": [
    "import operator\n",
    "a = [1, 2, 3, 4]\n",
    "b = operator.itemgetter(1) # return the item in index 1\n",
    "c = b(a)\n",
    "print(c) "
   ]
  },
  {
   "cell_type": "code",
   "execution_count": 15,
   "metadata": {},
   "outputs": [
    {
     "data": {
      "text/plain": [
       "[3, 2, 5, 1]"
      ]
     },
     "execution_count": 15,
     "metadata": {},
     "output_type": "execute_result"
    }
   ],
   "source": [
    "inventory = [('apple', 3), ('banana', 2), ('pear', 5), ('orange', 1)]\n",
    "getcount = operator.itemgetter(1)\n",
    "list(map(getcount, inventory))\n",
    "# [3, 2, 5, 1]"
   ]
  },
  {
   "cell_type": "code",
   "execution_count": null,
   "metadata": {},
   "outputs": [],
   "source": []
  }
 ],
 "metadata": {
  "kernelspec": {
   "display_name": "Python 3",
   "language": "python",
   "name": "python3"
  },
  "language_info": {
   "codemirror_mode": {
    "name": "ipython",
    "version": 3
   },
   "file_extension": ".py",
   "mimetype": "text/x-python",
   "name": "python",
   "nbconvert_exporter": "python",
   "pygments_lexer": "ipython3",
   "version": "3.6.5"
  }
 },
 "nbformat": 4,
 "nbformat_minor": 2
}
