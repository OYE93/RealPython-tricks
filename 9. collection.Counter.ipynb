{
 "cells": [
  {
   "cell_type": "markdown",
   "metadata": {},
   "source": [
    "## Tricks"
   ]
  },
  {
   "cell_type": "code",
   "execution_count": 3,
   "metadata": {},
   "outputs": [
    {
     "name": "stdout",
     "output_type": "stream",
     "text": [
      "Counter({'l': 3, 'o': 2, 'h': 1, 'e': 1, 'w': 1, 'r': 1, 'd': 1})\n",
      "[('l', 3), ('o', 2), ('h', 1)]\n"
     ]
    }
   ],
   "source": [
    "# collections.Counter lets you find the most common\n",
    "# elements in an iterable:\n",
    "\n",
    "import collections\n",
    "c = collections.Counter('helloworld')\n",
    "\n",
    "print(c)\n",
    "# Counter({'l': 3, 'o': 2, 'e': 1, 'd': 1, 'h': 1, 'r': 1, 'w': 1})\n",
    "\n",
    "print(c.most_common(3))\n",
    "# [('l', 3), ('o', 2), ('e', 1)]"
   ]
  },
  {
   "cell_type": "markdown",
   "metadata": {},
   "source": [
    "## Notes"
   ]
  },
  {
   "cell_type": "code",
   "execution_count": 7,
   "metadata": {},
   "outputs": [
    {
     "data": {
      "text/plain": [
       "['h', 'e', 'l', 'l', 'l', 'o', 'o', 'w', 'r', 'd']"
      ]
     },
     "execution_count": 7,
     "metadata": {},
     "output_type": "execute_result"
    }
   ],
   "source": [
    "# use .elements() to return an iterator over elements repeating each as many times as its count.\n",
    "list(c.elements())"
   ]
  },
  {
   "cell_type": "code",
   "execution_count": 10,
   "metadata": {},
   "outputs": [
    {
     "data": {
      "text/plain": [
       "Counter({'a': 1, 'b': -5, 'c': 0})"
      ]
     },
     "execution_count": 10,
     "metadata": {},
     "output_type": "execute_result"
    }
   ],
   "source": [
    "# Elements are subtracted from an iterable or from another mapping (or counter) using .subtract()\n",
    "a = collections.Counter('aabbbcc')\n",
    "b = collections.Counter('abbbbbbbbcc')\n",
    "a.subtract(b)\n",
    "a"
   ]
  },
  {
   "cell_type": "code",
   "execution_count": 13,
   "metadata": {},
   "outputs": [
    {
     "name": "stdout",
     "output_type": "stream",
     "text": [
      "Counter({'a': 1, 'c': 0, 'b': -5})\n",
      "Counter({'b': 8, 'c': 2, 'a': 1})\n",
      "Counter({'b': 3, 'a': 2, 'c': 2})\n",
      "Counter()\n",
      "Counter({'a': 1})\n",
      "Counter({'b': 8, 'c': 2, 'a': 1})\n"
     ]
    }
   ],
   "source": [
    "# Several mathematical operations (keeping only positive counts)\n",
    "print(a)\n",
    "print(b)\n",
    "print (a + b)\n",
    "print (a - b)  # subtract (keeping only positive counts)\n",
    "print (a & b)  # intersection:  min(c[x], d[x])\n",
    "print (a | b)   # union:  max(c[x], d[x])"
   ]
  },
  {
   "cell_type": "code",
   "execution_count": null,
   "metadata": {},
   "outputs": [],
   "source": []
  }
 ],
 "metadata": {
  "kernelspec": {
   "display_name": "Python 3",
   "language": "python",
   "name": "python3"
  },
  "language_info": {
   "codemirror_mode": {
    "name": "ipython",
    "version": 3
   },
   "file_extension": ".py",
   "mimetype": "text/x-python",
   "name": "python",
   "nbconvert_exporter": "python",
   "pygments_lexer": "ipython3",
   "version": "3.6.5"
  }
 },
 "nbformat": 4,
 "nbformat_minor": 2
}
