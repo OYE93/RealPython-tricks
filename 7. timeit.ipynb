{
 "cells": [
  {
   "cell_type": "markdown",
   "metadata": {},
   "source": [
    "### Tricks"
   ]
  },
  {
   "cell_type": "code",
   "execution_count": 4,
   "metadata": {},
   "outputs": [
    {
     "name": "stdout",
     "output_type": "stream",
     "text": [
      "0.3614566722228858\n",
      "0.29700828840685745\n",
      "0.24029815782637343\n"
     ]
    }
   ],
   "source": [
    "# The \"timeit\" module lets you measure the execution\n",
    "# time of small bits of Python code\n",
    "\n",
    "import timeit\n",
    "t1 = timeit.timeit('\"-\".join(str(n) for n in range(100))',\n",
    "                  number=10000)\n",
    "print(t1)\n",
    "\n",
    "t2 = timeit.timeit('\"-\".join([str(n) for n in range(100)])',\n",
    "                  number=10000)\n",
    "print(t2)\n",
    "\n",
    "t3 = timeit.timeit('\"-\".join(map(str, range(100)))',\n",
    "                  number=10000)\n",
    "print(t3)"
   ]
  },
  {
   "cell_type": "markdown",
   "metadata": {},
   "source": [
    "### Notes"
   ]
  },
  {
   "cell_type": "markdown",
   "metadata": {},
   "source": [
    "> `timeit` provides a simple way to time small bits of Python code. It has both a Command-Line Interface as well as a callable one. It avoids a number of common traps for measuring execution times."
   ]
  },
  {
   "cell_type": "markdown",
   "metadata": {},
   "source": [
    "#### python interface"
   ]
  },
  {
   "cell_type": "code",
   "execution_count": 8,
   "metadata": {},
   "outputs": [
    {
     "data": {
      "text/plain": [
       "0.06079382121276922"
      ]
     },
     "execution_count": 8,
     "metadata": {},
     "output_type": "execute_result"
    }
   ],
   "source": [
    "# timeit.timeit(stmt='pass', setup='pass', timer=<default timer>, number=1000000)\n",
    "# stmt and setup may also contain multiple statements separated by ; or newlines, \n",
    "# as long as they don’t contain multi-line string literals.\n",
    "timeit.timeit('char in str', 'char=\"g\"; str=\"change\"', number=10000)\n",
    "# above line equal to following lines\n",
    "t = timeit.Timer('char in str', 'char=\"g\"; str=\"change\"')\n",
    "t.timeit()"
   ]
  },
  {
   "cell_type": "code",
   "execution_count": 14,
   "metadata": {},
   "outputs": [
    {
     "data": {
      "text/plain": [
       "[0.0003864613800033112, 0.0003597947243179078, 0.00035979472386316047]"
      ]
     },
     "execution_count": 14,
     "metadata": {},
     "output_type": "execute_result"
    }
   ],
   "source": [
    "timeit.repeat('char in str', 'char=\"g\"; str=\"change\"', repeat=3, number=10000)\n",
    "# above line equal to following lines\n",
    "t = timeit.Timer('char in str', 'char=\"g\"; str=\"change\"')\n",
    "t.repeat(repeat=3, number=10000)"
   ]
  },
  {
   "cell_type": "markdown",
   "metadata": {},
   "source": [
    "#### command-line interface"
   ]
  },
  {
   "cell_type": "markdown",
   "metadata": {},
   "source": [
    "`python -m timeit [-n N] [-r N] [-s S] [-t] [-c] [-h] [statement ...]`  \n",
    "Where the following options are understood:\n",
    "\n",
    "-n N, --number=N  \n",
    "how many times to execute ‘statement’\n",
    "\n",
    "-r N, --repeat=N  \n",
    "how many times to repeat the timer (default 3)\n",
    "\n",
    "-s S, --setup=S  \n",
    "statement to be executed once initially (default pass)\n",
    "\n",
    "-t, --time  \n",
    "use time.time() (default on all platforms but Windows)\n",
    "\n",
    "-c, --clock  \n",
    "use time.clock() (default on Windows)\n",
    "\n",
    "-v, --verbose  \n",
    "print raw timing results; repeat for more digits precision\n",
    "\n",
    "-h, --help  \n",
    "print a short usage message and exit\n",
    "\n",
    "A multi-line statement may be given by specifying each line as a separate statement argument; indented lines are possible by enclosing an argument in quotes and using leading spaces. Multiple -s options are treated similarly."
   ]
  },
  {
   "cell_type": "code",
   "execution_count": null,
   "metadata": {},
   "outputs": [],
   "source": []
  }
 ],
 "metadata": {
  "kernelspec": {
   "display_name": "Python 3",
   "language": "python",
   "name": "python3"
  },
  "language_info": {
   "codemirror_mode": {
    "name": "ipython",
    "version": 3
   },
   "file_extension": ".py",
   "mimetype": "text/x-python",
   "name": "python",
   "nbconvert_exporter": "python",
   "pygments_lexer": "ipython3",
   "version": "3.6.5"
  }
 },
 "nbformat": 4,
 "nbformat_minor": 2
}
