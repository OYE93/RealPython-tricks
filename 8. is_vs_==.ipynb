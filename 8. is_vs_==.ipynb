{
 "cells": [
  {
   "cell_type": "markdown",
   "metadata": {},
   "source": [
    "### Tricks"
   ]
  },
  {
   "cell_type": "markdown",
   "metadata": {},
   "source": [
    "1. \"is\" expressions evaluate to `True` if two variables point to the same object\n",
    "\n",
    "2. \"==\" evaluates to `True` if the objects referred to by the variables are equal"
   ]
  },
  {
   "cell_type": "code",
   "execution_count": 1,
   "metadata": {},
   "outputs": [
    {
     "name": "stdout",
     "output_type": "stream",
     "text": [
      "True\n",
      "True\n",
      "True\n",
      "False\n"
     ]
    }
   ],
   "source": [
    "# \"is\" vs \"==\"\n",
    "\n",
    "a = [1, 2, 3]\n",
    "b = a\n",
    "\n",
    "print(a is b)\n",
    "# True\n",
    "print(a == b)\n",
    "# True\n",
    "\n",
    "c = list(a)\n",
    "\n",
    "print(a == c)\n",
    "# True\n",
    "print(a is c)\n",
    "# False\n"
   ]
  },
  {
   "cell_type": "code",
   "execution_count": 3,
   "metadata": {},
   "outputs": [
    {
     "name": "stdout",
     "output_type": "stream",
     "text": [
      "True\n",
      "True\n",
      "True\n"
     ]
    }
   ],
   "source": [
    "a = 0\n",
    "b = a\n",
    "print(a is b)\n",
    "# True\n",
    "\n",
    "# for int(), the object is same, so is and == are both True\n",
    "d = int(b)\n",
    "print(a == d)\n",
    "# True\n",
    "print(d is a)\n",
    "# True"
   ]
  },
  {
   "cell_type": "code",
   "execution_count": 7,
   "metadata": {},
   "outputs": [
    {
     "name": "stdout",
     "output_type": "stream",
     "text": [
      "True\n",
      "False\n",
      "True\n"
     ]
    }
   ],
   "source": [
    "a = {'a': 'A', 'b': 'B'}\n",
    "b = a\n",
    "\n",
    "print(a == b)\n",
    "\n",
    "#for dict(), the object is not the \n",
    "c = dict(b)\n",
    "\n",
    "print(a is c)\n",
    "print(a == c)"
   ]
  },
  {
   "cell_type": "code",
   "execution_count": null,
   "metadata": {},
   "outputs": [],
   "source": []
  }
 ],
 "metadata": {
  "kernelspec": {
   "display_name": "Python 3",
   "language": "python",
   "name": "python3"
  },
  "language_info": {
   "codemirror_mode": {
    "name": "ipython",
    "version": 3
   },
   "file_extension": ".py",
   "mimetype": "text/x-python",
   "name": "python",
   "nbconvert_exporter": "python",
   "pygments_lexer": "ipython3",
   "version": "3.6.5"
  }
 },
 "nbformat": 4,
 "nbformat_minor": 2
}
